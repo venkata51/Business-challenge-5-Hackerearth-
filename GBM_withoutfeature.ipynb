{
  "nbformat": 4,
  "nbformat_minor": 0,
  "metadata": {
    "colab": {
      "name": "GBM_withoutfeature.ipynb",
      "version": "0.3.2",
      "provenance": []
    },
    "kernelspec": {
      "name": "python3",
      "display_name": "Python 3"
    }
  },
  "cells": [
    {
      "metadata": {
        "id": "aboWX2UIavr7",
        "colab_type": "code",
        "colab": {
          "base_uri": "https://localhost:8080/",
          "height": 104
        },
        "outputId": "01e18582-a7b3-4597-bdb3-a71b5a0c8ebd"
      },
      "cell_type": "code",
      "source": [
        "# Import libraries\n",
        "import pandas as pd\n",
        "import numpy as np\n",
        "from sklearn.ensemble import RandomForestClassifier\n",
        "from sklearn.preprocessing import LabelEncoder\n",
        "from sklearn import cross_validation\n",
        "from sklearn.grid_search import GridSearchCV\n",
        "from time import time\n",
        "import matplotlib.pyplot as plt\n",
        "from operator import itemgetter\n",
        "\n",
        "# Stop deprecation warnings from being printed\n",
        "import warnings\n",
        "warnings.filterwarnings(\"ignore\", category=DeprecationWarning)"
      ],
      "execution_count": 1,
      "outputs": [
        {
          "output_type": "stream",
          "text": [
            "/usr/local/lib/python3.6/dist-packages/sklearn/cross_validation.py:41: DeprecationWarning: This module was deprecated in version 0.18 in favor of the model_selection module into which all the refactored classes and functions are moved. Also note that the interface of the new CV iterators are different from that of this module. This module will be removed in 0.20.\n",
            "  \"This module will be removed in 0.20.\", DeprecationWarning)\n",
            "/usr/local/lib/python3.6/dist-packages/sklearn/grid_search.py:42: DeprecationWarning: This module was deprecated in version 0.18 in favor of the model_selection module into which all the refactored classes and functions are moved. This module will be removed in 0.20.\n",
            "  DeprecationWarning)\n"
          ],
          "name": "stderr"
        }
      ]
    },
    {
      "metadata": {
        "id": "SKRCfcutbfee",
        "colab_type": "code",
        "colab": {
          "base_uri": "https://localhost:8080/",
          "height": 202
        },
        "outputId": "9a023f4b-91c0-4869-9ba3-7cb8606add3b"
      },
      "cell_type": "code",
      "source": [
        "!wget https://s3.ap-south-1.amazonaws.com/venkata512/train_building.csv"
      ],
      "execution_count": 2,
      "outputs": [
        {
          "output_type": "stream",
          "text": [
            "--2018-08-14 17:13:59--  https://s3.ap-south-1.amazonaws.com/venkata512/train_building.csv\n",
            "Resolving s3.ap-south-1.amazonaws.com (s3.ap-south-1.amazonaws.com)... 52.219.62.25\n",
            "Connecting to s3.ap-south-1.amazonaws.com (s3.ap-south-1.amazonaws.com)|52.219.62.25|:443... connected.\n",
            "HTTP request sent, awaiting response... 200 OK\n",
            "Length: 201720338 (192M) [text/csv]\n",
            "Saving to: ‘train_building.csv’\n",
            "\n",
            "train_building.csv  100%[===================>] 192.38M  8.56MB/s    in 91s     \n",
            "\n",
            "2018-08-14 17:15:31 (2.12 MB/s) - ‘train_building.csv’ saved [201720338/201720338]\n",
            "\n"
          ],
          "name": "stdout"
        }
      ]
    },
    {
      "metadata": {
        "id": "RyKetGXhbl8J",
        "colab_type": "code",
        "colab": {
          "base_uri": "https://localhost:8080/",
          "height": 202
        },
        "outputId": "7c2ca047-2450-4f24-a6a6-565b78123d81"
      },
      "cell_type": "code",
      "source": [
        "!wget https://s3.ap-south-1.amazonaws.com/venkata512/test_building.csv"
      ],
      "execution_count": 3,
      "outputs": [
        {
          "output_type": "stream",
          "text": [
            "--2018-08-14 17:15:35--  https://s3.ap-south-1.amazonaws.com/venkata512/test_building.csv\n",
            "Resolving s3.ap-south-1.amazonaws.com (s3.ap-south-1.amazonaws.com)... 52.219.64.21\n",
            "Connecting to s3.ap-south-1.amazonaws.com (s3.ap-south-1.amazonaws.com)|52.219.64.21|:443... connected.\n",
            "HTTP request sent, awaiting response... 200 OK\n",
            "Length: 133615862 (127M) [text/csv]\n",
            "Saving to: ‘test_building.csv’\n",
            "\n",
            "test_building.csv   100%[===================>] 127.43M  8.93MB/s    in 55s     \n",
            "\n",
            "2018-08-14 17:16:32 (2.30 MB/s) - ‘test_building.csv’ saved [133615862/133615862]\n",
            "\n"
          ],
          "name": "stdout"
        }
      ]
    },
    {
      "metadata": {
        "id": "YDyPY3q5a4di",
        "colab_type": "code",
        "colab": {}
      },
      "cell_type": "code",
      "source": [
        "# Load training and test data into pandas dataframes\n",
        "#train = pd.read_csv(\"train_building.csv\")\n",
        "test = pd.read_csv(\"test_building.csv\")\n",
        "train = pd.read_csv(\"train_building.csv\")\n",
        "\n",
        "# merge training and test sets into one dataframe\n",
        "#full = pd.concat([train, test])"
      ],
      "execution_count": 0,
      "outputs": []
    },
    {
      "metadata": {
        "id": "38AoXhhmcVJs",
        "colab_type": "code",
        "colab": {}
      },
      "cell_type": "code",
      "source": [
        "categorical_features=[\"area_assesed\",\n",
        "\"has_geotechnical_risk_fault_crack\",\n",
        "\"has_geotechnical_risk_flood\",\n",
        "\"has_geotechnical_risk_land_settlement\",\n",
        "\"has_geotechnical_risk_landslide\",\n",
        "\"has_geotechnical_risk_liquefaction\",\n",
        "\"has_geotechnical_risk_other\",\n",
        "\"has_geotechnical_risk_rock_fall\",\n",
        "\"has_repair_started\",\n",
        "\"legal_ownership_status\",\n",
        "\"has_secondary_use_agriculture\",\n",
        "\"has_secondary_use_hotel\",\n",
        "\"has_secondary_use_rental\",\n",
        "\"has_secondary_use_institution\",\n",
        "\"has_secondary_use_school\",\n",
        "\"has_secondary_use_industry\",\n",
        "\"has_secondary_use_health_post\",\n",
        "\"has_secondary_use_gov_office\",\n",
        "\"has_secondary_use_use_police\",\n",
        "\"has_secondary_use_other\",\n",
        "\"land_surface_condition\",\n",
        "\"foundation_type\",\n",
        "\"roof_type\",\n",
        "\"ground_floor_type\",\n",
        "\"other_floor_type\",\n",
        "\"position\",\n",
        "\"plan_configuration\",\n",
        "\"has_superstructure_adobe_mud\",\n",
        "\"has_superstructure_mud_mortar_stone\",\n",
        "\"has_superstructure_stone_flag\",\n",
        "\"has_superstructure_cement_mortar_stone\",\n",
        "\"has_superstructure_mud_mortar_brick\",\n",
        "\"has_superstructure_cement_mortar_brick\",\n",
        "\"has_superstructure_timber\",\n",
        "\"has_superstructure_bamboo\",\n",
        "\"has_superstructure_rc_non_engineered\",\n",
        "\"has_superstructure_rc_engineered\",\n",
        "\"has_superstructure_other\",\n",
        "\"condition_post_eq\"]\n",
        "\n",
        "numerical_features=[\"has_repair_started\",\n",
        "\"count_floors_pre_eq\",\n",
        "\"count_floors_post_eq\",\n",
        "\"age_building\",\n",
        "\"plinth_area_sq_ft\",\n",
        "\"height_ft_pre_eq\",\n",
        "\"height_ft_post_eq\",\n",
        "\"count_families\"]"
      ],
      "execution_count": 0,
      "outputs": []
    },
    {
      "metadata": {
        "id": "5ycZC_fScdIu",
        "colab_type": "code",
        "colab": {}
      },
      "cell_type": "code",
      "source": [
        "train.drop('Unnamed: 0', axis=1, inplace=True)\n",
        "test.drop('Unnamed: 0', axis=1, inplace=True)"
      ],
      "execution_count": 0,
      "outputs": []
    },
    {
      "metadata": {
        "id": "W3g3CWR0cup7",
        "colab_type": "code",
        "colab": {}
      },
      "cell_type": "code",
      "source": [
        "\n",
        "train.drop('building_id', axis=1, inplace=True)\n"
      ],
      "execution_count": 0,
      "outputs": []
    },
    {
      "metadata": {
        "id": "UzCe11DKcf7K",
        "colab_type": "code",
        "colab": {}
      },
      "cell_type": "code",
      "source": [
        "train[categorical_features]=train[categorical_features].apply(lambda x: x.astype('category'))\n",
        "test[categorical_features]=test[categorical_features].apply(lambda x: x.astype('category'))"
      ],
      "execution_count": 0,
      "outputs": []
    },
    {
      "metadata": {
        "id": "gN--MKmgc6_U",
        "colab_type": "code",
        "colab": {}
      },
      "cell_type": "code",
      "source": [
        "train_new=pd.get_dummies(train, columns=categorical_features)\n",
        "test_new=pd.get_dummies(test, columns=categorical_features)"
      ],
      "execution_count": 0,
      "outputs": []
    },
    {
      "metadata": {
        "id": "vr_OfnoLdD4S",
        "colab_type": "code",
        "colab": {}
      },
      "cell_type": "code",
      "source": [
        "columns=train_new.columns"
      ],
      "execution_count": 0,
      "outputs": []
    },
    {
      "metadata": {
        "id": "jvsFdixCdQnC",
        "colab_type": "code",
        "colab": {}
      },
      "cell_type": "code",
      "source": [
        "columns=columns.drop('damage_grade')"
      ],
      "execution_count": 0,
      "outputs": []
    },
    {
      "metadata": {
        "id": "Skg-rGqdd5HE",
        "colab_type": "code",
        "colab": {}
      },
      "cell_type": "code",
      "source": [
        "from sklearn.model_selection import train_test_split\n",
        "\n",
        "X_train, X_test, y_train, y_test = train_test_split(train_new[columns], train_new.damage_grade, test_size=0.35, random_state=42)\n"
      ],
      "execution_count": 0,
      "outputs": []
    },
    {
      "metadata": {
        "id": "2xxfUQcXmrFx",
        "colab_type": "code",
        "colab": {
          "base_uri": "https://localhost:8080/",
          "height": 128
        },
        "outputId": "1de502e7-87c6-4a59-c8bc-afe4672d364f"
      },
      "cell_type": "code",
      "source": [
        "from imblearn.over_sampling import SMOTE\n",
        "#!pip install imblearn\n",
        "print(\"Number transactions X_train dataset: \", X_train.shape)\n",
        "print(\"Number transactions y_train dataset: \", y_train.shape)\n",
        "print(\"Number transactions X_test dataset: \", X_test.shape)\n",
        "print(\"Number transactions y_test dataset: \", y_test.shape)"
      ],
      "execution_count": 71,
      "outputs": [
        {
          "output_type": "error",
          "ename": "SyntaxError",
          "evalue": "ignored",
          "traceback": [
            "\u001b[0;36m  File \u001b[0;32m\"<ipython-input-71-f382551ff63d>\"\u001b[0;36m, line \u001b[0;32m2\u001b[0m\n\u001b[0;31m    from imblearn.under_sampling\u001b[0m\n\u001b[0m                                ^\u001b[0m\n\u001b[0;31mSyntaxError\u001b[0m\u001b[0;31m:\u001b[0m invalid syntax\n"
          ]
        }
      ]
    },
    {
      "metadata": {
        "id": "HeDBLqIInhEg",
        "colab_type": "code",
        "colab": {
          "base_uri": "https://localhost:8080/",
          "height": 185
        },
        "outputId": "fd1b529a-1f70-4724-e1cb-6681a6f482aa"
      },
      "cell_type": "code",
      "source": [
        "print(\"Before OverSampling, counts of label '1': {} \\n\".format(sum(y_train==1)))\n",
        "print(\"Before OverSampling, counts of label '2': {} \\n\".format(sum(y_train==2)))\n",
        "print(\"Before OverSampling, counts of label '3': {} \\n\".format(sum(y_train==3)))\n",
        "print(\"Before OverSampling, counts of label '4': {} \\n\".format(sum(y_train==4)))\n",
        "print(\"Before OverSampling, counts of label '5': {} \\n\".format(sum(y_train==5)))"
      ],
      "execution_count": 58,
      "outputs": [
        {
          "output_type": "stream",
          "text": [
            "Before OverSampling, counts of label '1': 40134 \n",
            "\n",
            "Before OverSampling, counts of label '2': 55151 \n",
            "\n",
            "Before OverSampling, counts of label '3': 79537 \n",
            "\n",
            "Before OverSampling, counts of label '4': 98859 \n",
            "\n",
            "Before OverSampling, counts of label '5': 136963 \n",
            "\n"
          ],
          "name": "stdout"
        }
      ]
    },
    {
      "metadata": {
        "id": "buOl-XH_mj6X",
        "colab_type": "code",
        "colab": {}
      },
      "cell_type": "code",
      "source": [
        "\n",
        "sm = SMOTE(random_state=2)\n",
        "X_train_res, y_train_res = sm.fit_sample(X_train, y_train)\n"
      ],
      "execution_count": 0,
      "outputs": []
    },
    {
      "metadata": {
        "id": "PwQm8MjbpZui",
        "colab_type": "code",
        "colab": {
          "base_uri": "https://localhost:8080/",
          "height": 34
        },
        "outputId": "654a85c8-d5da-4d50-e853-811360b4dbb4"
      },
      "cell_type": "code",
      "source": [
        "y_train.ravel()"
      ],
      "execution_count": 59,
      "outputs": [
        {
          "output_type": "execute_result",
          "data": {
            "text/plain": [
              "array([1, 5, 4, ..., 4, 2, 2])"
            ]
          },
          "metadata": {
            "tags": []
          },
          "execution_count": 59
        }
      ]
    },
    {
      "metadata": {
        "id": "mB4VjG_5obZU",
        "colab_type": "code",
        "colab": {
          "base_uri": "https://localhost:8080/",
          "height": 101
        },
        "outputId": "fa64de8b-2b5d-406f-ed11-80a0f650a350"
      },
      "cell_type": "code",
      "source": [
        "print(\"After OverSampling, counts of label '1': {}\".format(sum(y_train_res==1)))\n",
        "print(\"After OverSampling, counts of label '2': {}\".format(sum(y_train_res==2)))\n",
        "print(\"After OverSampling, counts of label '3': {}\".format(sum(y_train_res==3)))\n",
        "print(\"After OverSampling, counts of label '4': {}\".format(sum(y_train_res==4)))\n",
        "print(\"After OverSampling, counts of label '5': {}\".format(sum(y_train_res==5)))"
      ],
      "execution_count": 61,
      "outputs": [
        {
          "output_type": "stream",
          "text": [
            "After OverSampling, counts of label '1': 136963\n",
            "After OverSampling, counts of label '2': 136963\n",
            "After OverSampling, counts of label '3': 136963\n",
            "After OverSampling, counts of label '4': 136963\n",
            "After OverSampling, counts of label '5': 136963\n"
          ],
          "name": "stdout"
        }
      ]
    },
    {
      "metadata": {
        "id": "-pdfAeYworYW",
        "colab_type": "code",
        "colab": {
          "base_uri": "https://localhost:8080/",
          "height": 34
        },
        "outputId": "97839d96-9fa2-4a7f-d635-4561ec7e321e"
      },
      "cell_type": "code",
      "source": [
        ""
      ],
      "execution_count": 55,
      "outputs": [
        {
          "output_type": "execute_result",
          "data": {
            "text/plain": [
              "<function ndarray.tolist>"
            ]
          },
          "metadata": {
            "tags": []
          },
          "execution_count": 55
        }
      ]
    },
    {
      "metadata": {
        "id": "2dRyMmq5eqke",
        "colab_type": "code",
        "colab": {
          "base_uri": "https://localhost:8080/",
          "height": 151
        },
        "outputId": "c6ce600f-a393-464b-a48b-fc138fd76049"
      },
      "cell_type": "code",
      "source": [
        "!pip install lightgbm"
      ],
      "execution_count": 25,
      "outputs": [
        {
          "output_type": "stream",
          "text": [
            "Collecting lightgbm\n",
            "\u001b[?25l  Downloading https://files.pythonhosted.org/packages/24/8d/783679697bdf1585dc96acfe7c8538d6fab33ad80e827cadb7b413e61da6/lightgbm-2.1.2-py2.py3-none-manylinux1_x86_64.whl (730kB)\n",
            "\u001b[K    100% |████████████████████████████████| 737kB 5.2MB/s \n",
            "\u001b[?25hRequirement already satisfied: scikit-learn in /usr/local/lib/python3.6/dist-packages (from lightgbm) (0.19.2)\n",
            "Requirement already satisfied: numpy in /usr/local/lib/python3.6/dist-packages (from lightgbm) (1.14.5)\n",
            "Requirement already satisfied: scipy in /usr/local/lib/python3.6/dist-packages (from lightgbm) (0.19.1)\n",
            "Installing collected packages: lightgbm\n",
            "Successfully installed lightgbm-2.1.2\n"
          ],
          "name": "stdout"
        }
      ]
    },
    {
      "metadata": {
        "id": "JjHMSrt3d_0m",
        "colab_type": "code",
        "colab": {}
      },
      "cell_type": "code",
      "source": [
        "import lightgbm as lgb\n",
        "d_train = lgb.Dataset(X_train_res, label=y_train_res,silent=0,free_raw_data=False)\n",
        "d_test = lgb.Dataset(X_test, label=y_test,silent=0,free_raw_data=False)"
      ],
      "execution_count": 0,
      "outputs": []
    },
    {
      "metadata": {
        "id": "hZU6jaG9pD4m",
        "colab_type": "code",
        "colab": {}
      },
      "cell_type": "code",
      "source": [
        "import lightgbm as lgb\n",
        "d_train = lgb.Dataset(X_train, label=y_train,silent=0,free_raw_data=False)\n",
        "d_test = lgb.Dataset(X_test, label=y_test,silent=0,free_raw_data=False)"
      ],
      "execution_count": 0,
      "outputs": []
    },
    {
      "metadata": {
        "id": "SFVismbAe2ov",
        "colab_type": "code",
        "colab": {}
      },
      "cell_type": "code",
      "source": [
        "params = {}\n",
        "params['learning_rate'] = 0.009\n",
        "params['boosting_type'] = 'dart'\n",
        "params['objective'] = 'softmax'\n",
        "params['metric'] = 'multi_logloss'\n",
        "params['sub_feature'] = 0.5\n",
        "params['num_leaves'] = 1000\n",
        "params['min_data'] = 50\n",
        "params['max_depth'] = 7\n",
        "params['num_class'] = 6\n",
        "#params['is_unbalance'] = 'true'\n",
        "params['max_bin'] = 3000\n",
        "params['learning_rate'] = 0.05\n",
        "params['feature_fraction'] = 0.9\n",
        "params['bagging_fraction'] = 0.8\n",
        "params['bagging_freq'] = 10\n",
        "params['reg_alpha'] = 0.041545473\n",
        "params['reg_lambda'] = 0.0735294\n",
        "params['min_split_gain'] = 0.0222415\n",
        "params['min_child_weight'] = 60\n",
        "#params['num_iterations'] = 200\n",
        "params['min_data_in_leaf'] = 50\n",
        "params['scale_pos_weight'] = 99\n",
        "#params['min_sum_hessian_in_leaf'] = 0.23\n"
      ],
      "execution_count": 0,
      "outputs": []
    },
    {
      "metadata": {
        "id": "EDFtP3CDw1se",
        "colab_type": "code",
        "colab": {
          "base_uri": "https://localhost:8080/",
          "height": 319
        },
        "outputId": "b36c4ab2-7be3-41ea-ba7f-22ce590a1d2b"
      },
      "cell_type": "code",
      "source": [
        "params"
      ],
      "execution_count": 85,
      "outputs": [
        {
          "output_type": "execute_result",
          "data": {
            "text/plain": [
              "{'bagging_fraction': 0.8,\n",
              " 'bagging_freq': 10,\n",
              " 'boosting_type': 'gbdt',\n",
              " 'feature_fraction': 0.9,\n",
              " 'is_unbalance': 'true',\n",
              " 'learning_rate': 0.05,\n",
              " 'max_bin': 1000,\n",
              " 'max_depth': 7,\n",
              " 'metric': ['multi_logloss', 'multiclassova', 'multi_error'],\n",
              " 'min_child_weight': 60,\n",
              " 'min_data': 50,\n",
              " 'min_split_gain': 0.0222415,\n",
              " 'num_class': 6,\n",
              " 'num_leaves': 100,\n",
              " 'objective': 'softmax',\n",
              " 'reg_alpha': 0.041545473,\n",
              " 'reg_lambda': 0.0735294,\n",
              " 'sub_feature': 0.5}"
            ]
          },
          "metadata": {
            "tags": []
          },
          "execution_count": 85
        }
      ]
    },
    {
      "metadata": {
        "id": "NfKcTP0AfkLU",
        "colab_type": "code",
        "colab": {
          "base_uri": "https://localhost:8080/",
          "height": 353
        },
        "outputId": "fc8778c2-af5f-4e8f-9441-2c6c04bac0eb"
      },
      "cell_type": "code",
      "source": [
        "num_round = 10\n",
        "lgb.cv(params, d_train, num_round, nfold=5)"
      ],
      "execution_count": 31,
      "outputs": [
        {
          "output_type": "execute_result",
          "data": {
            "text/plain": [
              "{'multi_logloss-mean': [1.5334607762133374,\n",
              "  1.4761797730050341,\n",
              "  1.424212183442825,\n",
              "  1.3770386699617898,\n",
              "  1.3338739242262831,\n",
              "  1.2942629102777063,\n",
              "  1.2579382454047918,\n",
              "  1.224275158730817,\n",
              "  1.1933587812615567,\n",
              "  1.1643617744726533],\n",
              " 'multi_logloss-stdv': [7.362951369488768e-05,\n",
              "  0.00015109403658063024,\n",
              "  0.00021822707292930204,\n",
              "  0.00029230073237536056,\n",
              "  0.00035335260444203324,\n",
              "  0.00038785317576785217,\n",
              "  0.0004320805475584724,\n",
              "  0.00045320394032776314,\n",
              "  0.000488581088858369,\n",
              "  0.0005198046652062037]}"
            ]
          },
          "metadata": {
            "tags": []
          },
          "execution_count": 31
        }
      ]
    },
    {
      "metadata": {
        "id": "KNGoeP4Fe7m1",
        "colab_type": "code",
        "colab": {
          "base_uri": "https://localhost:8080/",
          "height": 2399
        },
        "outputId": "d477dbad-9513-4618-813b-0ecf927528a1"
      },
      "cell_type": "code",
      "source": [
        "gbm = lgb.train(params,d_train,num_boost_round=1200,valid_sets=[d_train, d_test],\n",
        "                #feval=lgb_f1_score, \n",
        "                evals_result=evals_result)"
      ],
      "execution_count": 103,
      "outputs": [
        {
          "output_type": "stream",
          "text": [
            "[1]\ttraining's multi_logloss: 1.53661\tvalid_1's multi_logloss: 1.53365\n",
            "[2]\ttraining's multi_logloss: 1.48101\tvalid_1's multi_logloss: 1.47602\n",
            "[3]\ttraining's multi_logloss: 1.4309\tvalid_1's multi_logloss: 1.42418\n",
            "[4]\ttraining's multi_logloss: 1.38559\tvalid_1's multi_logloss: 1.37745\n",
            "[5]\ttraining's multi_logloss: 1.34398\tvalid_1's multi_logloss: 1.33452\n",
            "[6]\ttraining's multi_logloss: 1.3056\tvalid_1's multi_logloss: 1.29505\n",
            "[7]\ttraining's multi_logloss: 1.27017\tvalid_1's multi_logloss: 1.25868\n",
            "[8]\ttraining's multi_logloss: 1.2855\tvalid_1's multi_logloss: 1.27452\n",
            "[9]\ttraining's multi_logloss: 1.25157\tvalid_1's multi_logloss: 1.23972\n",
            "[10]\ttraining's multi_logloss: 1.21975\tvalid_1's multi_logloss: 1.20717\n",
            "[11]\ttraining's multi_logloss: 1.19013\tvalid_1's multi_logloss: 1.1769\n",
            "[12]\ttraining's multi_logloss: 1.2015\tvalid_1's multi_logloss: 1.18858\n",
            "[13]\ttraining's multi_logloss: 1.17541\tvalid_1's multi_logloss: 1.16118\n",
            "[14]\ttraining's multi_logloss: 1.15023\tvalid_1's multi_logloss: 1.13466\n",
            "[15]\ttraining's multi_logloss: 1.12518\tvalid_1's multi_logloss: 1.10926\n",
            "[16]\ttraining's multi_logloss: 1.10169\tvalid_1's multi_logloss: 1.08548\n",
            "[17]\ttraining's multi_logloss: 1.07982\tvalid_1's multi_logloss: 1.06332\n",
            "[18]\ttraining's multi_logloss: 1.0593\tvalid_1's multi_logloss: 1.04259\n",
            "[19]\ttraining's multi_logloss: 1.03985\tvalid_1's multi_logloss: 1.02301\n",
            "[20]\ttraining's multi_logloss: 1.02146\tvalid_1's multi_logloss: 1.00452\n",
            "[21]\ttraining's multi_logloss: 1.02728\tvalid_1's multi_logloss: 1.01045\n",
            "[22]\ttraining's multi_logloss: 1.00955\tvalid_1's multi_logloss: 0.992584\n",
            "[23]\ttraining's multi_logloss: 0.99295\tvalid_1's multi_logloss: 0.97589\n",
            "[24]\ttraining's multi_logloss: 0.977254\tvalid_1's multi_logloss: 0.960082\n",
            "[25]\ttraining's multi_logloss: 0.962439\tvalid_1's multi_logloss: 0.945188\n",
            "[26]\ttraining's multi_logloss: 0.948581\tvalid_1's multi_logloss: 0.931277\n",
            "[27]\ttraining's multi_logloss: 0.935282\tvalid_1's multi_logloss: 0.917943\n",
            "[28]\ttraining's multi_logloss: 0.940733\tvalid_1's multi_logloss: 0.923396\n",
            "[29]\ttraining's multi_logloss: 0.927885\tvalid_1's multi_logloss: 0.910522\n",
            "[30]\ttraining's multi_logloss: 0.915922\tvalid_1's multi_logloss: 0.898455\n",
            "[31]\ttraining's multi_logloss: 0.917461\tvalid_1's multi_logloss: 0.899978\n",
            "[32]\ttraining's multi_logloss: 0.905868\tvalid_1's multi_logloss: 0.888404\n",
            "[33]\ttraining's multi_logloss: 0.89477\tvalid_1's multi_logloss: 0.877357\n",
            "[34]\ttraining's multi_logloss: 0.884242\tvalid_1's multi_logloss: 0.866869\n",
            "[35]\ttraining's multi_logloss: 0.889994\tvalid_1's multi_logloss: 0.87259\n",
            "[36]\ttraining's multi_logloss: 0.899325\tvalid_1's multi_logloss: 0.881996\n",
            "[37]\ttraining's multi_logloss: 0.888606\tvalid_1's multi_logloss: 0.871313\n",
            "[38]\ttraining's multi_logloss: 0.878363\tvalid_1's multi_logloss: 0.861141\n",
            "[39]\ttraining's multi_logloss: 0.868687\tvalid_1's multi_logloss: 0.851504\n",
            "[40]\ttraining's multi_logloss: 0.866648\tvalid_1's multi_logloss: 0.849515\n",
            "[41]\ttraining's multi_logloss: 0.872884\tvalid_1's multi_logloss: 0.855697\n",
            "[42]\ttraining's multi_logloss: 0.863472\tvalid_1's multi_logloss: 0.846416\n",
            "[43]\ttraining's multi_logloss: 0.868998\tvalid_1's multi_logloss: 0.851883\n",
            "[44]\ttraining's multi_logloss: 0.859723\tvalid_1's multi_logloss: 0.842668\n",
            "[45]\ttraining's multi_logloss: 0.851561\tvalid_1's multi_logloss: 0.834411\n",
            "[46]\ttraining's multi_logloss: 0.861382\tvalid_1's multi_logloss: 0.844221\n",
            "[47]\ttraining's multi_logloss: 0.852466\tvalid_1's multi_logloss: 0.835374\n",
            "[48]\ttraining's multi_logloss: 0.852057\tvalid_1's multi_logloss: 0.834979\n",
            "[49]\ttraining's multi_logloss: 0.857995\tvalid_1's multi_logloss: 0.840913\n",
            "[50]\ttraining's multi_logloss: 0.864682\tvalid_1's multi_logloss: 0.847571\n",
            "[51]\ttraining's multi_logloss: 0.855597\tvalid_1's multi_logloss: 0.838559\n",
            "[52]\ttraining's multi_logloss: 0.846914\tvalid_1's multi_logloss: 0.82998\n",
            "[53]\ttraining's multi_logloss: 0.851732\tvalid_1's multi_logloss: 0.834802\n",
            "[54]\ttraining's multi_logloss: 0.843296\tvalid_1's multi_logloss: 0.826429\n",
            "[55]\ttraining's multi_logloss: 0.835219\tvalid_1's multi_logloss: 0.818461\n",
            "[56]\ttraining's multi_logloss: 0.841825\tvalid_1's multi_logloss: 0.824975\n",
            "[57]\ttraining's multi_logloss: 0.833796\tvalid_1's multi_logloss: 0.817097\n",
            "[58]\ttraining's multi_logloss: 0.841084\tvalid_1's multi_logloss: 0.824328\n",
            "[59]\ttraining's multi_logloss: 0.847739\tvalid_1's multi_logloss: 0.830981\n",
            "[60]\ttraining's multi_logloss: 0.839532\tvalid_1's multi_logloss: 0.822848\n",
            "[61]\ttraining's multi_logloss: 0.845053\tvalid_1's multi_logloss: 0.828348\n",
            "[62]\ttraining's multi_logloss: 0.836888\tvalid_1's multi_logloss: 0.820277\n",
            "[63]\ttraining's multi_logloss: 0.829531\tvalid_1's multi_logloss: 0.812793\n",
            "[64]\ttraining's multi_logloss: 0.83464\tvalid_1's multi_logloss: 0.817851\n",
            "[65]\ttraining's multi_logloss: 0.839149\tvalid_1's multi_logloss: 0.822333\n",
            "[66]\ttraining's multi_logloss: 0.831313\tvalid_1's multi_logloss: 0.81465\n",
            "[67]\ttraining's multi_logloss: 0.823818\tvalid_1's multi_logloss: 0.807267\n",
            "[68]\ttraining's multi_logloss: 0.816761\tvalid_1's multi_logloss: 0.800288\n",
            "[69]\ttraining's multi_logloss: 0.821398\tvalid_1's multi_logloss: 0.804825\n",
            "[70]\ttraining's multi_logloss: 0.823922\tvalid_1's multi_logloss: 0.807311\n",
            "[71]\ttraining's multi_logloss: 0.827685\tvalid_1's multi_logloss: 0.81108\n",
            "[72]\ttraining's multi_logloss: 0.820403\tvalid_1's multi_logloss: 0.803907\n",
            "[73]\ttraining's multi_logloss: 0.814004\tvalid_1's multi_logloss: 0.797513\n",
            "[74]\ttraining's multi_logloss: 0.817403\tvalid_1's multi_logloss: 0.800847\n",
            "[75]\ttraining's multi_logloss: 0.810629\tvalid_1's multi_logloss: 0.794167\n",
            "[76]\ttraining's multi_logloss: 0.81116\tvalid_1's multi_logloss: 0.794691\n",
            "[77]\ttraining's multi_logloss: 0.814271\tvalid_1's multi_logloss: 0.797729\n",
            "[78]\ttraining's multi_logloss: 0.817907\tvalid_1's multi_logloss: 0.801332\n",
            "[79]\ttraining's multi_logloss: 0.811055\tvalid_1's multi_logloss: 0.794656\n",
            "[80]\ttraining's multi_logloss: 0.804439\tvalid_1's multi_logloss: 0.788189\n",
            "[81]\ttraining's multi_logloss: 0.807847\tvalid_1's multi_logloss: 0.791526\n",
            "[82]\ttraining's multi_logloss: 0.801389\tvalid_1's multi_logloss: 0.785216\n",
            "[83]\ttraining's multi_logloss: 0.805281\tvalid_1's multi_logloss: 0.789044\n",
            "[84]\ttraining's multi_logloss: 0.809232\tvalid_1's multi_logloss: 0.792889\n",
            "[85]\ttraining's multi_logloss: 0.813207\tvalid_1's multi_logloss: 0.79679\n",
            "[86]\ttraining's multi_logloss: 0.806544\tvalid_1's multi_logloss: 0.790266\n",
            "[87]\ttraining's multi_logloss: 0.800138\tvalid_1's multi_logloss: 0.78404\n",
            "[88]\ttraining's multi_logloss: 0.804561\tvalid_1's multi_logloss: 0.78838\n",
            "[89]\ttraining's multi_logloss: 0.807677\tvalid_1's multi_logloss: 0.791435\n",
            "[90]\ttraining's multi_logloss: 0.811523\tvalid_1's multi_logloss: 0.795193\n",
            "[91]\ttraining's multi_logloss: 0.815632\tvalid_1's multi_logloss: 0.799274\n",
            "[92]\ttraining's multi_logloss: 0.808787\tvalid_1's multi_logloss: 0.79257\n",
            "[93]\ttraining's multi_logloss: 0.802356\tvalid_1's multi_logloss: 0.786275\n",
            "[94]\ttraining's multi_logloss: 0.805881\tvalid_1's multi_logloss: 0.789716\n",
            "[95]\ttraining's multi_logloss: 0.808949\tvalid_1's multi_logloss: 0.79273\n",
            "[96]\ttraining's multi_logloss: 0.812009\tvalid_1's multi_logloss: 0.795738\n",
            "[97]\ttraining's multi_logloss: 0.805379\tvalid_1's multi_logloss: 0.789229\n",
            "[98]\ttraining's multi_logloss: 0.808784\tvalid_1's multi_logloss: 0.792567\n",
            "[99]\ttraining's multi_logloss: 0.80234\tvalid_1's multi_logloss: 0.786236\n",
            "[100]\ttraining's multi_logloss: 0.796193\tvalid_1's multi_logloss: 0.780222\n",
            "[101]\ttraining's multi_logloss: 0.800671\tvalid_1's multi_logloss: 0.784615\n",
            "[102]\ttraining's multi_logloss: 0.803824\tvalid_1's multi_logloss: 0.787697\n",
            "[103]\ttraining's multi_logloss: 0.80737\tvalid_1's multi_logloss: 0.791177\n",
            "[104]\ttraining's multi_logloss: 0.800988\tvalid_1's multi_logloss: 0.784936\n",
            "[105]\ttraining's multi_logloss: 0.805073\tvalid_1's multi_logloss: 0.788971\n",
            "[106]\ttraining's multi_logloss: 0.808859\tvalid_1's multi_logloss: 0.79268\n",
            "[107]\ttraining's multi_logloss: 0.812649\tvalid_1's multi_logloss: 0.796407\n",
            "[108]\ttraining's multi_logloss: 0.806031\tvalid_1's multi_logloss: 0.789941\n",
            "[109]\ttraining's multi_logloss: 0.809044\tvalid_1's multi_logloss: 0.792895\n",
            "[110]\ttraining's multi_logloss: 0.812542\tvalid_1's multi_logloss: 0.796328\n",
            "[111]\ttraining's multi_logloss: 0.805873\tvalid_1's multi_logloss: 0.78981\n",
            "[112]\ttraining's multi_logloss: 0.799763\tvalid_1's multi_logloss: 0.783647\n",
            "[113]\ttraining's multi_logloss: 0.793699\tvalid_1's multi_logloss: 0.7777\n",
            "[114]\ttraining's multi_logloss: 0.787862\tvalid_1's multi_logloss: 0.772048\n",
            "[115]\ttraining's multi_logloss: 0.782235\tvalid_1's multi_logloss: 0.766591\n",
            "[116]\ttraining's multi_logloss: 0.776985\tvalid_1's multi_logloss: 0.761505\n"
          ],
          "name": "stdout"
        },
        {
          "output_type": "error",
          "ename": "KeyboardInterrupt",
          "evalue": "ignored",
          "traceback": [
            "\u001b[0;31m---------------------------------------------------------------------------\u001b[0m",
            "\u001b[0;31mKeyboardInterrupt\u001b[0m                         Traceback (most recent call last)",
            "\u001b[0;32m<ipython-input-103-1291d28130b0>\u001b[0m in \u001b[0;36m<module>\u001b[0;34m()\u001b[0m\n\u001b[1;32m      1\u001b[0m gbm = lgb.train(params,d_train,num_boost_round=1200,valid_sets=[d_train, d_test],\n\u001b[1;32m      2\u001b[0m                 \u001b[0;31m#feval=lgb_f1_score,\u001b[0m\u001b[0;34m\u001b[0m\u001b[0;34m\u001b[0m\u001b[0m\n\u001b[0;32m----> 3\u001b[0;31m                 evals_result=evals_result)\n\u001b[0m",
            "\u001b[0;32m/usr/local/lib/python3.6/dist-packages/lightgbm/engine.py\u001b[0m in \u001b[0;36mtrain\u001b[0;34m(params, train_set, num_boost_round, valid_sets, valid_names, fobj, feval, init_model, feature_name, categorical_feature, early_stopping_rounds, evals_result, verbose_eval, learning_rates, keep_training_booster, callbacks)\u001b[0m\n\u001b[1;32m    202\u001b[0m                                     evaluation_result_list=None))\n\u001b[1;32m    203\u001b[0m \u001b[0;34m\u001b[0m\u001b[0m\n\u001b[0;32m--> 204\u001b[0;31m         \u001b[0mbooster\u001b[0m\u001b[0;34m.\u001b[0m\u001b[0mupdate\u001b[0m\u001b[0;34m(\u001b[0m\u001b[0mfobj\u001b[0m\u001b[0;34m=\u001b[0m\u001b[0mfobj\u001b[0m\u001b[0;34m)\u001b[0m\u001b[0;34m\u001b[0m\u001b[0m\n\u001b[0m\u001b[1;32m    205\u001b[0m \u001b[0;34m\u001b[0m\u001b[0m\n\u001b[1;32m    206\u001b[0m         \u001b[0mevaluation_result_list\u001b[0m \u001b[0;34m=\u001b[0m \u001b[0;34m[\u001b[0m\u001b[0;34m]\u001b[0m\u001b[0;34m\u001b[0m\u001b[0m\n",
            "\u001b[0;32m/usr/local/lib/python3.6/dist-packages/lightgbm/basic.py\u001b[0m in \u001b[0;36mupdate\u001b[0;34m(self, train_set, fobj)\u001b[0m\n\u001b[1;32m   1526\u001b[0m             _safe_call(_LIB.LGBM_BoosterUpdateOneIter(\n\u001b[1;32m   1527\u001b[0m                 \u001b[0mself\u001b[0m\u001b[0;34m.\u001b[0m\u001b[0mhandle\u001b[0m\u001b[0;34m,\u001b[0m\u001b[0;34m\u001b[0m\u001b[0m\n\u001b[0;32m-> 1528\u001b[0;31m                 ctypes.byref(is_finished)))\n\u001b[0m\u001b[1;32m   1529\u001b[0m             \u001b[0mself\u001b[0m\u001b[0;34m.\u001b[0m\u001b[0m__is_predicted_cur_iter\u001b[0m \u001b[0;34m=\u001b[0m \u001b[0;34m[\u001b[0m\u001b[0;32mFalse\u001b[0m \u001b[0;32mfor\u001b[0m \u001b[0m_\u001b[0m \u001b[0;32min\u001b[0m \u001b[0mrange_\u001b[0m\u001b[0;34m(\u001b[0m\u001b[0mself\u001b[0m\u001b[0;34m.\u001b[0m\u001b[0m__num_dataset\u001b[0m\u001b[0;34m)\u001b[0m\u001b[0;34m]\u001b[0m\u001b[0;34m\u001b[0m\u001b[0m\n\u001b[1;32m   1530\u001b[0m             \u001b[0;32mreturn\u001b[0m \u001b[0mis_finished\u001b[0m\u001b[0;34m.\u001b[0m\u001b[0mvalue\u001b[0m \u001b[0;34m==\u001b[0m \u001b[0;36m1\u001b[0m\u001b[0;34m\u001b[0m\u001b[0m\n",
            "\u001b[0;31mKeyboardInterrupt\u001b[0m: "
          ]
        }
      ]
    },
    {
      "metadata": {
        "id": "YHJGFwVOtDz4",
        "colab_type": "code",
        "colab": {}
      },
      "cell_type": "code",
      "source": [
        "\n",
        "lgb.plot_metric(evals_result, metric='f1')"
      ],
      "execution_count": 0,
      "outputs": []
    },
    {
      "metadata": {
        "id": "e5V4XR8PiE2Q",
        "colab_type": "code",
        "colab": {}
      },
      "cell_type": "code",
      "source": [
        "y_pred=gbm.predict(X_test)\n",
        "#y_pred_train=gbm.predict(X_train)"
      ],
      "execution_count": 0,
      "outputs": []
    },
    {
      "metadata": {
        "id": "h92t5aKPibcG",
        "colab_type": "code",
        "colab": {}
      },
      "cell_type": "code",
      "source": [
        "predictions_train = []\n",
        "predictions_test = []\n",
        "pred_final = []\n",
        "\n",
        "\n",
        "    \n",
        "for x in y_pred:\n",
        "    predictions_test.append(np.argmax(x))"
      ],
      "execution_count": 0,
      "outputs": []
    },
    {
      "metadata": {
        "id": "YGKk0dUbijQp",
        "colab_type": "code",
        "colab": {
          "base_uri": "https://localhost:8080/",
          "height": 34
        },
        "outputId": "ca5fb232-1181-49ee-cbfe-31b1b58946bf"
      },
      "cell_type": "code",
      "source": [
        "import numpy as np\n",
        "from sklearn.metrics import accuracy_score\n",
        "from sklearn.metrics import f1_score\n",
        "\n",
        "#accuracy_score(y_train, predictions_test)\n",
        "#accuracy_score(y_test, predictions_test)\n",
        "f1_score(y_test, predictions_test, average='weighted') "
      ],
      "execution_count": 100,
      "outputs": [
        {
          "output_type": "execute_result",
          "data": {
            "text/plain": [
              "0.7048023874668677"
            ]
          },
          "metadata": {
            "tags": []
          },
          "execution_count": 100
        }
      ]
    }
  ]
}